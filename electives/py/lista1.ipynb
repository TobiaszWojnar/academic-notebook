{
 "cells": [
  {
   "cell_type": "markdown",
   "metadata": {},
   "source": [
    "# Lista 1\n",
    "\n",
    "## Kurs wybranego języka programowania (Python)\n",
    "\n",
    "Wszystkie rozwiązania proszę wpisać w tym notatniku poniżej treści zadań. Zadania z `*` to zadania dodatkowe."
   ]
  },
  {
   "cell_type": "markdown",
   "metadata": {},
   "source": [
    "## Zadanie 1 _(5pt)_\n",
    "\n",
    "Napisz funkcję, który wyświetla trójkąt Pascala o zadanej wysokości\n",
    "```\n",
    "                1\n",
    "              1   1\n",
    "            1   2   1\n",
    "          1   3   3   1\n",
    "        1   4   6   4   1\n",
    "      .....................\n",
    "```"
   ]
  },
  {
   "cell_type": "code",
   "execution_count": 1,
   "metadata": {},
   "outputs": [
    {
     "name": "stdout",
     "output_type": "stream",
     "text": [
      "        1   \n",
      "\n",
      "      1   1   \n",
      "\n",
      "    1   2   1   \n",
      "\n",
      "  1   3   3   1   \n",
      "\n",
      "1   4   6   4   1   \n",
      "\n"
     ]
    }
   ],
   "source": [
    "import math\n",
    "def binom(n, k):\n",
    "    return math.factorial(n) // math.factorial(k) // math.factorial(n - k)\n",
    "def pascal_triangle(n):\n",
    "    for i in range(0, n+1):\n",
    "        for k in range (0, n - i):\n",
    "            print('  ', end='')\n",
    "        for j in range (0, i+1):\n",
    "            print(binom(i, j), end='')\n",
    "            print('   ', end='')\n",
    "        print('\\n')\n",
    "    pass\n",
    "\n",
    "pascal_triangle(4)"
   ]
  },
  {
   "cell_type": "markdown",
   "metadata": {},
   "source": [
    "## Zadanie 2 _(5pt)_\n",
    "\n",
    "Napisz funkcję `primes(n)` zwracająca listę liczb pierwszych nie większych niż $n$ np.\n",
    "\n",
    "```\n",
    "In [ ]:   primes(6)\n",
    "Out [ ]: [2, 3, 5]\n",
    "```"
   ]
  },
  {
   "cell_type": "code",
   "execution_count": 36,
   "metadata": {},
   "outputs": [
    {
     "name": "stdout",
     "output_type": "stream",
     "text": [
      "[2, 3, 5, 7, 11, 13]\n"
     ]
    }
   ],
   "source": [
    "def primes(n):\n",
    "    output = []\n",
    "    for k in range(2, n):\n",
    "        i = 2\n",
    "        while i**2 <= k:\n",
    "            if k % i == 0:\n",
    "                break\n",
    "            i+=1\n",
    "        else:\n",
    "            output.append(k)\n",
    "    return output   \n",
    "print(primes(15))"
   ]
  },
  {
   "cell_type": "markdown",
   "metadata": {},
   "source": [
    "## Zadanie 3 _(5pt)_\n",
    "\n",
    "Napisz funkcje, która usuwa wszystkie powtarzające się elementy z listy (tak, że każdy element występuje tylko raz) np. z listy `[1,1,2,2,2,3,3,5,5,5,4,4,4,0]` dostajemy `[1,2,3,5,4,0]`."
   ]
  },
  {
   "cell_type": "code",
   "execution_count": 28,
   "metadata": {},
   "outputs": [
    {
     "data": {
      "text/plain": "[1, 2, 3, 5, 4, 0]"
     },
     "execution_count": 28,
     "metadata": {},
     "output_type": "execute_result"
    }
   ],
   "source": [
    "def remove_doubles(list):\n",
    "    output = []\n",
    "    length = len(list)\n",
    "    while length > 0:\n",
    "        x = list[0]\n",
    "        for j in range(0, length):\n",
    "            try:\n",
    "                list.remove(x)\n",
    "                length-=1\n",
    "            except:\n",
    "                break\n",
    "        output.append(x)\n",
    "    return output\n",
    "\n",
    "remove_doubles([1,1,2,2,2,3,3,5,5,5,4,4,4,0])"
   ]
  },
  {
   "cell_type": "markdown",
   "metadata": {},
   "source": [
    "## Zadanie 4 _(10pt)_\n",
    "\n",
    "Napisz funkcję `prime_factors(n)`, która rozkłada $n$ na czynniki pierwsze i jako wynik wraca listę par $[(p_1,\\alpha_1), (p_2,\\alpha_2), \\ldots, (p_k, \\alpha_k)]$ taką, że $p_1^{\\alpha_1}p_2^{\\alpha_2}\\ldots p_k^{\\alpha_k}$.\n"
   ]
  },
  {
   "cell_type": "code",
   "execution_count": 8,
   "metadata": {},
   "outputs": [
    {
     "data": {
      "text/plain": "[(2, 8)]"
     },
     "execution_count": 8,
     "metadata": {},
     "output_type": "execute_result"
    }
   ],
   "source": [
    "def prime_factors(n):\n",
    "    output = []\n",
    "    for i in range(2, n+1):\n",
    "        if n % i == 0:\n",
    "            alpha = 0\n",
    "            while n % i == 0:\n",
    "                n = n / i\n",
    "                alpha+=1\n",
    "            output.append((i,alpha))\n",
    "    return output\n",
    "\n",
    "prime_factors(256)"
   ]
  },
  {
   "cell_type": "markdown",
   "metadata": {},
   "source": [
    "## Zadanie 5 _(10pt)_\n",
    "\n",
    "Napisz funkcję `fraczero(n)` liczącą silnie $n!$ dla $n$ od $0$ do $10000$ oraz jako wynik wraca liczbę zer na końcu $n!$."
   ]
  },
  {
   "cell_type": "code",
   "execution_count": 66,
   "metadata": {},
   "outputs": [
    {
     "name": "stdout",
     "output_type": "stream",
     "text": "fraczero 2\nfactorial 3628800\n"
    }
   ],
   "source": [
    "import math\n",
    "def fraczero_alt(n):\n",
    "    \"\"\" Alternative approach \"\"\"\n",
    "    iterator = 1\n",
    "    output = 0\n",
    "    factorial = 1\n",
    "    while 10 * (iterator//10) + 10 < n:\n",
    "        for i in range(iterator, iterator+10):\n",
    "            factorial *= i\n",
    "        while factorial % 10 == 0:\n",
    "            factorial //= 10\n",
    "            output+=1\n",
    "        iterator += 10\n",
    "    for i in range(iterator, n+1):\n",
    "        factorial *= i\n",
    "    while factorial % 10 == 0 and factorial > 0:\n",
    "        factorial //= 10\n",
    "        output+=1\n",
    "        if output > 5:\n",
    "            break\n",
    "    \n",
    "    \n",
    "    return output\n",
    "\n",
    "def fraczero(n):\n",
    "    \"\"\" Simple approach \"\"\"\n",
    "    x = math.factorial(n)\n",
    "    output = 0\n",
    "    while x % 10 == 0:\n",
    "        x //= 10\n",
    "        output+=1\n",
    "    return output\n",
    "\n",
    "\n",
    "n=10\n",
    "print('fraczero', fraczero(n))\n",
    "print('factorial', math.factorial(n))\n"
   ]
  },
  {
   "cell_type": "markdown",
   "metadata": {},
   "source": [
    "## Zadanie 6 _(10pt)_\n",
    "\n",
    "Napisz program, który generuje liczbę $20$ liczb losowych (rozkład jednostajny) od $1$ do $100$\n",
    "* Wyświetl listę wygenerowanych liczb\n",
    "* Wyświetl średnią\n",
    "* Wyświetl największą i najmniejszą wartość\n",
    "* Wyświetl drugą największą i drugą najmniejszą wartość na liście\n",
    "* Wyświetl ile jest liczb parzystych na liście\n",
    " "
   ]
  },
  {
   "cell_type": "code",
   "execution_count": 141,
   "metadata": {},
   "outputs": [
    {
     "name": "stdout",
     "output_type": "stream",
     "text": "list: [1, 3, 10, 13, 14, 24, 28, 30, 42, 50, 52, 59, 65, 70, 86, 86, 87, 94, 95, 96]\naverage: 50.25\nmax: 96\nmax secondary: 95\nmin: 1\nmin secondary: 3\n"
    }
   ],
   "source": [
    "import random\n",
    "def generate_random_numbers():\n",
    "    output = []\n",
    "    for i in range(0, 20):\n",
    "        output.append(random.randint(1,100))\n",
    "    return output\n",
    "\n",
    "list = generate_random_numbers()\n",
    "list.sort()\n",
    "sum=0\n",
    "max=list[len(list)-1]\n",
    "max_secondary=list[len(list)-2]\n",
    "min=list[0]\n",
    "min_secondary=list[1]\n",
    "for i in range(0,20):\n",
    "    el = list[i]\n",
    "    sum+=el\n",
    "print('list:', list)\n",
    "print('average:', sum/20)\n",
    "print('max:', max)\n",
    "print('max secondary:', max_secondary)\n",
    "print('min:', min)\n",
    "print('min secondary:', min_secondary)\n"
   ]
  },
  {
   "cell_type": "markdown",
   "metadata": {},
   "source": [
    "## Zadanie 7 _(10pt)_\n",
    "\n",
    "Załóżmy, że mamy następującą listę: `L = ['aababacaa', 'cabaabcca', 'aaabbcbacb', 'acababbaab', ...]` wygenerowaną losowo tzn. lista zawiera losowe ciągi znaków o zadanej długości z liter `'a'`, `'b'` i `'c'`. Takie wzorce występują w wielu miejscach np. sekwencje DNA. Użytkownik zawiera swój (wzorzec) ciąg znaków z literami i pustymi miejscami oznaczonymi przez `'*'` np. `\"a**a******\"`. Wykorzystaj słownik z kluczami zawierającymi indeksy znaków różnych od `'*'` i wartościami liter z wzorca. Napisz program, który znajduje wszystkie sekwencje z listy, które pasuje do podanego wzorca."
   ]
  },
  {
   "cell_type": "code",
   "execution_count": 164,
   "metadata": {},
   "outputs": [
    {
     "name": "stdout",
     "output_type": "stream",
     "text": "['aababacaa']\n"
    }
   ],
   "source": [
    "def find(pattern, list):\n",
    "    # generate a dictionary\n",
    "    dict = {}\n",
    "    output = []\n",
    "    for i in range(0, len(pattern)):\n",
    "        p = pattern[i]\n",
    "        if p != '*':\n",
    "            dict[i] = p\n",
    "    for x in list:\n",
    "        if(len(x) == len(pattern)):\n",
    "            for i in range(0, len(pattern)):\n",
    "                p = dict.get(i)\n",
    "                if(p == None):\n",
    "                    continue\n",
    "                if(p != x[i]):\n",
    "                    break\n",
    "            else:\n",
    "                output.append(x)\n",
    "    return output\n",
    "\n",
    "list = ['aababacaa', 'cabaabcca', 'aaabbcbacb', 'acababbaab']\n",
    "pattern = 'a**a*****'\n",
    "print(find(pattern, list))\n"
   ]
  },
  {
   "cell_type": "markdown",
   "metadata": {},
   "source": [
    "## Zadanie 8 _(10pt)_\n",
    "\n",
    "Napisz program, który konwerteruje liczby rzymskie na liczby arabskie. Do zapisu liczb rzymskich używa\n",
    "się 7 liter: `I=1`, `V=5`, `X=10`, `L=50`, `C=100`, `D=500`, `M=1000`. Opis algorytmu zamiany z i na system rzymski można znaleźć np. [tutaj](http://www.algorytm.org/algorytmy-arytmetyczne/zamiana-z-i-na-system-rzymski.html)"
   ]
  },
  {
   "cell_type": "code",
   "execution_count": null,
   "metadata": {},
   "outputs": [],
   "source": []
  },
  {
   "cell_type": "markdown",
   "metadata": {},
   "source": [
    "## Zadanie 9* _(5pt)_\n",
    "\n",
    "Napisz program kalkulator, który pobiera wprowadzone wartości oraz funkcje z klawiatury następnie podaje wynik. W przypadku błędnych danych zgłasza błąd.\n",
    "\n",
    "Przykładowa sesja:\n",
    "```\n",
    "    Kalkulator\n",
    "    [1]: 2+5*10\n",
    "        52\n",
    "    [2]: sin(0.5)+cos(0.3)\n",
    "        1.434762027729809\n",
    "    [3]: 2^100\n",
    "        1267650600228229401496703205376\n",
    "```\n",
    "\n",
    "Przykładowy kod pobierania danych od użytkownika:\n",
    "\n",
    "```\n",
    "    x = input('Podaj x = ')\n",
    "```"
   ]
  },
  {
   "cell_type": "code",
   "execution_count": null,
   "metadata": {},
   "outputs": [],
   "source": []
  },
  {
   "cell_type": "markdown",
   "metadata": {},
   "source": [
    "\n",
    "## Zadanie 10* _(10pt)_\n",
    "\n",
    "Napisz program, który rysuje na ekranie w trybie znakowym wykres funkcji zmiennej $x$. Wskazówka: utwórz  ,,tablicę dwuwymiarową'' o wymiarach 80x24 i narysuj wykres w tej tablicy. Następnie wynik wyświetl na ekranie.\n",
    "\n",
    "```\n",
    "        Podaj funkcje f(x) = sin(x)\n",
    "        Podaj początek przedziału a = -pi\n",
    "        Podaj koniec przedziału b = pi\n",
    "                                                |\n",
    "                                                |\n",
    "                                                |              ***********\n",
    "                                                |           ***           ***\n",
    "                                                |         **                 **\n",
    "                                                |        *                     *\n",
    "                                                |      **                       **\n",
    "                                                |     *                           *\n",
    "                                                |   **                             **\n",
    "                                                |  *                                 *\n",
    "                                                | *                                   *\n",
    "                                                |*                                     *\n",
    "        ----------------------------------------|---------------------------------------\n",
    "          *                                   * |\n",
    "           *                                 *  |\n",
    "            **                             **   |\n",
    "              *                           *     |\n",
    "               **                       **      |\n",
    "                 *                     *        |\n",
    "                  **                 **         |\n",
    "                    ***           ***           |\n",
    "                       ***** *****              |\n",
    "                            *                   |\n",
    "                                                |\n",
    "```"
   ]
  },
  {
   "cell_type": "code",
   "execution_count": null,
   "metadata": {},
   "outputs": [],
   "source": []
  }
 ],
 "metadata": {
  "kernelspec": {
   "display_name": "Python 3",
   "language": "python",
   "name": "python3"
  },
  "language_info": {
   "codemirror_mode": {
    "name": "ipython",
    "version": 3
   },
   "file_extension": ".py",
   "mimetype": "text/x-python",
   "name": "python",
   "nbconvert_exporter": "python",
   "pygments_lexer": "ipython3",
   "version": "3.7.4-final"
  }
 },
 "nbformat": 4,
 "nbformat_minor": 2
}