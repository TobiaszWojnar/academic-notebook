{
 "cells": [
  {
   "cell_type": "markdown",
   "metadata": {},
   "source": [
    "# Lista 1\n",
    "\n",
    "## Kurs wybranego języka programowania (Python)\n",
    "\n",
    "Wszystkie rozwiązania proszę wpisać w tym notatniku poniżej treści zadań. Zadania z `*` to zadania dodatkowe."
   ]
  },
  {
   "cell_type": "markdown",
   "metadata": {},
   "source": [
    "## Zadanie 1 _(5pt)_\n",
    "\n",
    "Napisz funkcję, który wyświetla trójkąt Pascala o zadanej wysokości\n",
    "```\n",
    "                1\n",
    "              1   1\n",
    "            1   2   1\n",
    "          1   3   3   1\n",
    "        1   4   6   4   1\n",
    "      .....................\n",
    "```"
   ]
  },
  {
   "cell_type": "code",
   "execution_count": 188,
   "metadata": {},
   "outputs": [
    {
     "name": "stdout",
     "output_type": "stream",
     "text": "\n        1   \n\n      1   1   \n\n    1   2   1   \n\n  1   3   3   1   \n\n"
    }
   ],
   "source": [
    "import math\n",
    "def binom(n, k):\n",
    "    return math.factorial(n) // math.factorial(k) // math.factorial(n - k)\n",
    "def pascal_triangle(n):\n",
    "    print('')\n",
    "    for i in range(0, n):\n",
    "        for k in range (0, n - i):\n",
    "            print('  ', end='')\n",
    "        for j in range (0, i+1):\n",
    "            print(binom(i, j), end='')\n",
    "            print('   ', end='')\n",
    "        print('\\n')\n",
    "    pass\n",
    "\n",
    "pascal_triangle(4)"
   ]
  },
  {
   "cell_type": "markdown",
   "metadata": {},
   "source": [
    "## Zadanie 2 _(5pt)_\n",
    "\n",
    "Napisz funkcję `primes(n)` zwracająca listę liczb pierwszych nie większych niż $n$ np.\n",
    "\n",
    "```\n",
    "In [ ]:   primes(6)\n",
    "Out [ ]: [2, 3, 5]\n",
    "```"
   ]
  },
  {
   "cell_type": "code",
   "execution_count": 36,
   "metadata": {},
   "outputs": [
    {
     "name": "stdout",
     "output_type": "stream",
     "text": [
      "[2, 3, 5, 7, 11, 13]\n"
     ]
    }
   ],
   "source": [
    "def primes(n):\n",
    "    output = []\n",
    "    for k in range(2, n):\n",
    "        i = 2\n",
    "        while i**2 <= k:\n",
    "            if k % i == 0:\n",
    "                break\n",
    "            i+=1\n",
    "        else:\n",
    "            output.append(k)\n",
    "    return output   \n",
    "print(primes(15))"
   ]
  },
  {
   "cell_type": "markdown",
   "metadata": {},
   "source": [
    "## Zadanie 3 _(5pt)_\n",
    "\n",
    "Napisz funkcje, która usuwa wszystkie powtarzające się elementy z listy (tak, że każdy element występuje tylko raz) np. z listy `[1,1,2,2,2,3,3,5,5,5,4,4,4,0]` dostajemy `[1,2,3,5,4,0]`."
   ]
  },
  {
   "cell_type": "code",
   "execution_count": 28,
   "metadata": {},
   "outputs": [
    {
     "data": {
      "text/plain": "[1, 2, 3, 5, 4, 0]"
     },
     "execution_count": 28,
     "metadata": {},
     "output_type": "execute_result"
    }
   ],
   "source": [
    "def remove_doubles(list):\n",
    "    output = []\n",
    "    length = len(list)\n",
    "    while length > 0:\n",
    "        x = list[0]\n",
    "        for j in range(0, length):\n",
    "            try:\n",
    "                list.remove(x)\n",
    "                length-=1\n",
    "            except:\n",
    "                break\n",
    "        output.append(x)\n",
    "    return output\n",
    "\n",
    "remove_doubles([1,1,2,2,2,3,3,5,5,5,4,4,4,0])"
   ]
  },
  {
   "cell_type": "markdown",
   "metadata": {},
   "source": [
    "## Zadanie 4 _(10pt)_\n",
    "\n",
    "Napisz funkcję `prime_factors(n)`, która rozkłada $n$ na czynniki pierwsze i jako wynik wraca listę par $[(p_1,\\alpha_1), (p_2,\\alpha_2), \\ldots, (p_k, \\alpha_k)]$ taką, że $p_1^{\\alpha_1}p_2^{\\alpha_2}\\ldots p_k^{\\alpha_k}$.\n"
   ]
  },
  {
   "cell_type": "code",
   "execution_count": 8,
   "metadata": {},
   "outputs": [
    {
     "data": {
      "text/plain": "[(2, 8)]"
     },
     "execution_count": 8,
     "metadata": {},
     "output_type": "execute_result"
    }
   ],
   "source": [
    "def prime_factors(n):\n",
    "    output = []\n",
    "    for i in range(2, n+1):\n",
    "        if n % i == 0:\n",
    "            alpha = 0\n",
    "            while n % i == 0:\n",
    "                n = n / i\n",
    "                alpha+=1\n",
    "            output.append((i,alpha))\n",
    "    return output\n",
    "\n",
    "prime_factors(256)"
   ]
  },
  {
   "cell_type": "markdown",
   "metadata": {},
   "source": [
    "## Zadanie 5 _(10pt)_\n",
    "\n",
    "Napisz funkcję `fraczero(n)` liczącą silnie $n!$ dla $n$ od $0$ do $10000$ oraz jako wynik wraca liczbę zer na końcu $n!$."
   ]
  },
  {
   "cell_type": "code",
   "execution_count": 186,
   "metadata": {},
   "outputs": [
    {
     "name": "stdout",
     "output_type": "stream",
     "text": "fraczero 12\nfactorial 80658175170943878571660636856403766975289505440883277824000000000000\n"
    }
   ],
   "source": [
    "import math\n",
    "def fraczero_alt(n):\n",
    "    \"\"\" Alternative approach \"\"\"\n",
    "    iterator = 1\n",
    "    output = 0\n",
    "    factorial = 1\n",
    "    while 10 * (iterator//10) + 10 < n:\n",
    "        for i in range(iterator, iterator+10):\n",
    "            factorial *= i\n",
    "        while factorial % 10 == 0:\n",
    "            factorial //= 10\n",
    "            output+=1\n",
    "        iterator += 10\n",
    "    for i in range(iterator, n+1):\n",
    "        factorial *= i\n",
    "    while factorial % 10 == 0 and factorial > 0:\n",
    "        factorial //= 10\n",
    "        output+=1\n",
    "        if output > 5:\n",
    "            break\n",
    "    \n",
    "    \n",
    "    return output\n",
    "\n",
    "def fraczero(n):\n",
    "    \"\"\" Simple approach \"\"\"\n",
    "    x = math.factorial(n)\n",
    "    output = 0\n",
    "    while x % 10 == 0:\n",
    "        x //= 10\n",
    "        output+=1\n",
    "    return output\n",
    "\n",
    "\n",
    "n=52\n",
    "print('fraczero', fraczero(n))\n",
    "# print('fraczero_alt', fraczero_alt(n))\n",
    "print('factorial', math.factorial(n))\n"
   ]
  },
  {
   "cell_type": "markdown",
   "metadata": {},
   "source": [
    "## Zadanie 6 _(10pt)_\n",
    "\n",
    "Napisz program, który generuje liczbę $20$ liczb losowych (rozkład jednostajny) od $1$ do $100$\n",
    "* Wyświetl listę wygenerowanych liczb\n",
    "* Wyświetl średnią\n",
    "* Wyświetl największą i najmniejszą wartość\n",
    "* Wyświetl drugą największą i drugą najmniejszą wartość na liście\n",
    "* Wyświetl ile jest liczb parzystych na liście\n",
    " "
   ]
  },
  {
   "cell_type": "code",
   "execution_count": 141,
   "metadata": {},
   "outputs": [
    {
     "name": "stdout",
     "output_type": "stream",
     "text": "list: [1, 3, 10, 13, 14, 24, 28, 30, 42, 50, 52, 59, 65, 70, 86, 86, 87, 94, 95, 96]\naverage: 50.25\nmax: 96\nmax secondary: 95\nmin: 1\nmin secondary: 3\n"
    }
   ],
   "source": [
    "import random\n",
    "def generate_random_numbers():\n",
    "    output = []\n",
    "    for i in range(0, 20):\n",
    "        output.append(random.randint(1,100))\n",
    "    return output\n",
    "\n",
    "list = generate_random_numbers()\n",
    "list.sort()\n",
    "sum=0\n",
    "max=list[len(list)-1]\n",
    "max_secondary=list[len(list)-2]\n",
    "min=list[0]\n",
    "min_secondary=list[1]\n",
    "for i in range(0,20):\n",
    "    el = list[i]\n",
    "    sum+=el\n",
    "print('list:', list)\n",
    "print('average:', sum/20)\n",
    "print('max:', max)\n",
    "print('max secondary:', max_secondary)\n",
    "print('min:', min)\n",
    "print('min secondary:', min_secondary)\n"
   ]
  },
  {
   "cell_type": "markdown",
   "metadata": {},
   "source": [
    "## Zadanie 7 _(10pt)_\n",
    "\n",
    "Załóżmy, że mamy następującą listę: `L = ['aababacaa', 'cabaabcca', 'aaabbcbacb', 'acababbaab', ...]` wygenerowaną losowo tzn. lista zawiera losowe ciągi znaków o zadanej długości z liter `'a'`, `'b'` i `'c'`. Takie wzorce występują w wielu miejscach np. sekwencje DNA. Użytkownik zawiera swój (wzorzec) ciąg znaków z literami i pustymi miejscami oznaczonymi przez `'*'` np. `\"a**a******\"`. Wykorzystaj słownik z kluczami zawierającymi indeksy znaków różnych od `'*'` i wartościami liter z wzorca. Napisz program, który znajduje wszystkie sekwencje z listy, które pasuje do podanego wzorca."
   ]
  },
  {
   "cell_type": "code",
   "execution_count": 164,
   "metadata": {},
   "outputs": [
    {
     "name": "stdout",
     "output_type": "stream",
     "text": "['aababacaa']\n"
    }
   ],
   "source": [
    "def find(pattern, list):\n",
    "    # generate a dictionary\n",
    "    dict = {}\n",
    "    output = []\n",
    "    for i in range(0, len(pattern)):\n",
    "        p = pattern[i]\n",
    "        if p != '*':\n",
    "            dict[i] = p\n",
    "    for x in list:\n",
    "        if(len(x) == len(pattern)):\n",
    "            for i in range(0, len(pattern)):\n",
    "                p = dict.get(i)\n",
    "                if(p == None):\n",
    "                    continue\n",
    "                if(p != x[i]):\n",
    "                    break\n",
    "            else:\n",
    "                output.append(x)\n",
    "    return output\n",
    "\n",
    "list = ['aababacaa', 'cabaabcca', 'aaabbcbacb', 'acababbaab']\n",
    "pattern = 'a**a*****'\n",
    "print(find(pattern, list))\n"
   ]
  },
  {
   "cell_type": "markdown",
   "metadata": {},
   "source": [
    "## Zadanie 8 _(10pt)_\n",
    "\n",
    "Napisz program, który konwerteruje liczby rzymskie na liczby arabskie. Do zapisu liczb rzymskich używa\n",
    "się 7 liter: `I=1`, `V=5`, `X=10`, `L=50`, `C=100`, `D=500`, `M=1000`. Opis algorytmu zamiany z i na system rzymski można znaleźć np. [tutaj](http://www.algorytm.org/algorytmy-arytmetyczne/zamiana-z-i-na-system-rzymski.html)"
   ]
  },
  {
   "cell_type": "code",
   "execution_count": 162,
   "metadata": {},
   "outputs": [
    {
     "data": {
      "text/plain": "151"
     },
     "execution_count": 162,
     "metadata": {},
     "output_type": "execute_result"
    }
   ],
   "source": [
    "map = {\n",
    "    'I': 1,\n",
    "    'V': 5,\n",
    "    'X': 10,\n",
    "    'L': 50,\n",
    "    'C': 100,\n",
    "    'D': 500,\n",
    "    'M': 1000\n",
    "}\n",
    "def roman_to_arabic(roman):\n",
    "    # sanitize the input\n",
    "    roman = roman.upper()\n",
    "\n",
    "    output = 0\n",
    "    # count same letters that are adjacent to each other; clear if there is a different letter\n",
    "    same_letter_so_far_count = 0\n",
    "    same_letter_so_far = ''\n",
    "\n",
    "    # indicator whether a subtraction was performed\n",
    "    did_the_subtraction_flag = False\n",
    "    \n",
    "    # iterator over roman number string\n",
    "    for i in range(0, len(roman)):\n",
    "        # setup current and previous\n",
    "        current = roman[i]\n",
    "        previous = current\n",
    "        # set previous if possible\n",
    "        if i > 0:\n",
    "            previous = roman[i-1]\n",
    "        # by default add the arabic representation to the output\n",
    "        output += map[current]\n",
    "\n",
    "        # add up to 3 consecutive numbers to the output\n",
    "        if current == same_letter_so_far:\n",
    "            same_letter_so_far_count+=1\n",
    "            if same_letter_so_far_count > 3:\n",
    "                return 'you can\\'t add more than 3 consecutive atomic numbers together'\n",
    "        \n",
    "        # if it wasn't the same number, perform subtraction if possible\n",
    "        else:\n",
    "            # abort if roman number wants to subtract a sum of two atomic numbers\n",
    "            if map[previous] < map[current] and did_the_subtraction_flag:\n",
    "                return 'you can\\'t subtract a sum of smaller numbers from a bigger atomic number'\n",
    "            \n",
    "            if same_letter_so_far != '':\n",
    "                # something is hapenning, because there is already a same_letter_so_far\n",
    "\n",
    "                # check the order of magnitude\n",
    "                order = map[current]//map[same_letter_so_far]\n",
    "                if order > 0:\n",
    "                    # only deal with subtractions that are in the adjacent order of magnitude\n",
    "                    if order == 10 or order == 5:\n",
    "                        # it's alright, the difference is normal\n",
    "\n",
    "                        # allow only up to one number to be subtracted\n",
    "                        if same_letter_so_far_count > 1:\n",
    "                            return 'only one number can be subtracted from the other'\n",
    "                        # now, remove that was actually just subtracting from the bigger number\n",
    "                        # and at the same time apply the subtraction from the bigger number\n",
    "                        output -= 2*same_letter_so_far_count*map[same_letter_so_far]\n",
    "                        # reset fully\n",
    "                        same_letter_so_far = ''\n",
    "                        same_letter_so_far_count = 0\n",
    "                        # but remember that there was a subtraction\n",
    "                        did_the_subtraction_flag = True\n",
    "                        continue\n",
    "                    else:\n",
    "                        return 'invalid roman number'\n",
    "            # resetting to the current number\n",
    "            same_letter_so_far = current\n",
    "            same_letter_so_far_count = 1\n",
    "            did_the_subtraction_flag = False\n",
    "    return output\n",
    "\n",
    "roman_to_arabic('cli')"
   ]
  },
  {
   "cell_type": "markdown",
   "metadata": {},
   "source": [
    "## Zadanie 9* _(5pt)_\n",
    "\n",
    "Napisz program kalkulator, który pobiera wprowadzone wartości oraz funkcje z klawiatury następnie podaje wynik. W przypadku błędnych danych zgłasza błąd.\n",
    "\n",
    "Przykładowa sesja:\n",
    "```\n",
    "    Kalkulator\n",
    "    [1]: 2+5*10\n",
    "        52\n",
    "    [2]: sin(0.5)+cos(0.3)\n",
    "        1.434762027729809\n",
    "    [3]: 2^100\n",
    "        1267650600228229401496703205376\n",
    "```\n",
    "\n",
    "Przykładowy kod pobierania danych od użytkownika:\n",
    "\n",
    "```\n",
    "    x = input('Podaj x = ')\n",
    "```"
   ]
  },
  {
   "cell_type": "code",
   "execution_count": 6,
   "metadata": {},
   "outputs": [
    {
     "name": "stdout",
     "output_type": "stream",
     "text": "Calculator:\n11\n1.2246467991473532e-16\n-1.0\n0.0\n"
    }
   ],
   "source": [
    "from math import *\n",
    "\n",
    "def evaluate(expression):\n",
    "    expression = expression.replace('^', '**')\n",
    "    return eval(expression)\n",
    "\n",
    "def calculator():\n",
    "    user_input = ''\n",
    "    print('Calculator:')\n",
    "    while user_input != '.exit':\n",
    "        if len(user_input) > 0:\n",
    "            print(evaluate(user_input))\n",
    "        user_input = input('type .exit to exit')\n",
    "\n",
    "calculator()\n"
   ]
  },
  {
   "cell_type": "markdown",
   "metadata": {},
   "source": [
    "\n",
    "## Zadanie 10* _(10pt)_\n",
    "\n",
    "Napisz program, który rysuje na ekranie w trybie znakowym wykres funkcji zmiennej $x$. Wskazówka: utwórz  ,,tablicę dwuwymiarową'' o wymiarach 80x24 i narysuj wykres w tej tablicy. Następnie wynik wyświetl na ekranie.\n",
    "\n",
    "```\n",
    "        Podaj funkcje f(x) = sin(x)\n",
    "        Podaj początek przedziału a = -pi\n",
    "        Podaj koniec przedziału b = pi\n",
    "                                                |\n",
    "                                                |\n",
    "                                                |              ***********\n",
    "                                                |           ***           ***\n",
    "                                                |         **                 **\n",
    "                                                |        *                     *\n",
    "                                                |      **                       **\n",
    "                                                |     *                           *\n",
    "                                                |   **                             **\n",
    "                                                |  *                                 *\n",
    "                                                | *                                   *\n",
    "                                                |*                                     *\n",
    "        ----------------------------------------|---------------------------------------\n",
    "          *                                   * |\n",
    "           *                                 *  |\n",
    "            **                             **   |\n",
    "              *                           *     |\n",
    "               **                       **      |\n",
    "                 *                     *        |\n",
    "                  **                 **         |\n",
    "                    ***           ***           |\n",
    "                       ***** *****              |\n",
    "                            *                   |\n",
    "                                                |\n",
    "```"
   ]
  },
  {
   "cell_type": "code",
   "execution_count": 34,
   "metadata": {},
   "outputs": [
    {
     "name": "stdout",
     "output_type": "stream",
     "text": "chart for cos(x) from 0 to 6.283185307179586\n|                                                                               \n|*****                                                                     *****\n|     **                                                                 **     \n|       **                                                             **       \n|         *                                                           *         \n|          **                                                       **          \n|            *                                                     *            \n|             *                                                   *             \n|              **                                               **              \n|                *                                             *                \n|                 *                                           *                 \n|                  *                                         *                  \n|-------------------------------------------------------------------------------\n|                    *                                     *                    \n|                     *                                   *                     \n|                      *                                 *                      \n|                       **                             **                       \n|                         *                           *                         \n|                          *                         *                          \n|                           **                     **                           \n|                             *                   *                             \n|                              **               **                              \n|                                **           **                                \n|                                  ***********                                  \n"
    }
   ],
   "source": [
    "from math import *\n",
    "import sys\n",
    "\n",
    "def evaluate(expression):\n",
    "    expression = expression.replace('^', '**')\n",
    "    return eval(expression)\n",
    "\n",
    "def get_func_values(func, begin, end):\n",
    "\n",
    "    if begin > end:\n",
    "        return '`begin` can\\'t be a bigger number than `end`'\n",
    "    values = []\n",
    "    # prepare max, min\n",
    "    min = sys.float_info.max\n",
    "    max = sys.float_info.min\n",
    "    # loop thorugh and populate 80 values of the provided function\n",
    "    # whilst searching for the max and min\n",
    "    for i in range(0,80):\n",
    "        # value = func(begin + (i/80)*(abs(begin) + abs(end)))\n",
    "        value = evaluate(func.replace('x', str(begin + (i/80)*(abs(begin) + abs(end)))))\n",
    "        if value > max:\n",
    "            max = value\n",
    "        elif value < min:\n",
    "            min = value\n",
    "        values.append(value)\n",
    "    return (\n",
    "        values,\n",
    "        max,\n",
    "        min\n",
    "        )\n",
    "\n",
    "def generate_func_chart(func, begin, end):\n",
    "\n",
    "    func_evaluated = get_func_values(func, begin, end)\n",
    "\n",
    "    # get the vars from the input tuple\n",
    "    values = func_evaluated[0]\n",
    "    min = func_evaluated[1]\n",
    "    max = func_evaluated[2]\n",
    "    \n",
    "    chart = []\n",
    "    # populate the chart array with columns of values\n",
    "    added_vertical_line = False\n",
    "    for i in range(0,80):\n",
    "        column = []\n",
    "        if floor(begin + (i/80)*(abs(begin) + abs(end))) == 0 and not added_vertical_line:\n",
    "            # add a vertical line to the chart\n",
    "            chart.append(list('|' * 24))\n",
    "            added_vertical_line = True\n",
    "            continue\n",
    "        else:\n",
    "            column = list(' ' * 24)\n",
    "\n",
    "        value = values[i]\n",
    "        index = floor(( value / (abs(max) + abs(min)) + 0.5 ) * 23)\n",
    "        column[index] = '*'\n",
    "\n",
    "        # add a horizontal line to the chart\n",
    "        column[11] = '-'\n",
    "\n",
    "        chart.append(column)\n",
    "    \n",
    "    # why does it need to be there? I ask myself that question as well,\n",
    "    # but it needs to be there to render the chart properly for some reason\n",
    "    print('chart for', func, 'from', begin, 'to', end)\n",
    "    for i in range(0, 24):\n",
    "        for j in range(0, 80):\n",
    "            print(chart[j][23-i], end='')\n",
    "        print('\\n', end='')\n",
    "\n",
    "def plotter():\n",
    "    func = input('Provide the function to plot: f(x) = ')\n",
    "    begin = evaluate(input('Provide plot beginning: a = '))\n",
    "    end = evaluate(input('Provide plot end: b = '))\n",
    "    generate_func_chart(func, begin, end)\n",
    "\n",
    "plotter()\n"
   ]
  },
  {
   "cell_type": "code",
   "execution_count": null,
   "metadata": {},
   "outputs": [],
   "source": []
  }
 ],
 "metadata": {
  "kernelspec": {
   "display_name": "Python 3",
   "language": "python",
   "name": "python3"
  },
  "language_info": {
   "codemirror_mode": {
    "name": "ipython",
    "version": 3
   },
   "file_extension": ".py",
   "mimetype": "text/x-python",
   "name": "python",
   "nbconvert_exporter": "python",
   "pygments_lexer": "ipython3",
   "version": "3.7.4-final"
  }
 },
 "nbformat": 4,
 "nbformat_minor": 2
}