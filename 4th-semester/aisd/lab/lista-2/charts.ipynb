{
 "nbformat": 4,
 "nbformat_minor": 2,
 "metadata": {
  "language_info": {
   "name": "python",
   "codemirror_mode": {
    "name": "ipython",
    "version": 3
   },
   "version": "3.7.4-final"
  },
  "orig_nbformat": 2,
  "file_extension": ".py",
  "mimetype": "text/x-python",
  "name": "python",
  "npconvert_exporter": "python",
  "pygments_lexer": "ipython3",
  "version": 3,
  "kernelspec": {
   "name": "python3",
   "display_name": "Python 3"
  }
 },
 "cells": [
  {
   "cell_type": "code",
   "execution_count": 149,
   "metadata": {
    "tags": [
     "outputPrepend"
    ]
   },
   "outputs": [
    {
     "output_type": "display_data",
     "data": {
      "text/plain": "<Figure size 432x288 with 1 Axes>",
      "image/png": "[encoded data removed]"
     },
     "metadata": {
      "needs_background": "light"
     }
    }
   ],
   "source": [
    "from matplotlib import pyplot as plt \n",
    "from functools import reduce\n",
    "\n",
    "def algorithm_summary(file: str):\n",
    "    with open(file) as file:\n",
    "        comparisons = [[] for _ in range(0, 100)]\n",
    "        swaps = [[] for _ in range(0, 100)]\n",
    "        time = [[] for _ in range(0, 100)]\n",
    "\n",
    "        for line in file:\n",
    "            line = line.strip().split()\n",
    "            # print(line)\n",
    "            if len(line) < 4:\n",
    "                break;\n",
    "            n = int(int(line[0])/100)-1\n",
    "            \n",
    "            comparisons[n].append(int(line[1]))\n",
    "            swaps[n].append(int(line[2]))\n",
    "            time[n].append(float(line[3]))\n",
    "        \n",
    "        comparisons_avg = []\n",
    "        for comp in comparisons:\n",
    "            sum_ = reduce(lambda a,b : a+b, comp)\n",
    "            avg = sum_ / len(comp)\n",
    "            comparisons_avg.append(avg)\n",
    "        \n",
    "        swaps_avg = []\n",
    "        for swap in swaps:\n",
    "            sum_ = reduce(lambda a,b : a+b, swap)\n",
    "            avg = sum_ / len(swap)\n",
    "            swaps_avg.append(avg)\n",
    "\n",
    "        time_avg = []\n",
    "        for t in time:\n",
    "            sum_ = reduce(lambda a,b : a+b, t)\n",
    "            avg = sum_ / len(t)\n",
    "            time_avg.append(avg)\n",
    "        \n",
    "        comps_over_n = []\n",
    "        i = 100\n",
    "        for c in comparisons_avg:\n",
    "            comps_over_n.append(c * 1.0 / i)\n",
    "            i += 100\n",
    "\n",
    "        swaps_over_n = []\n",
    "        i = 100\n",
    "        for s in swaps_avg:\n",
    "            swaps_over_n.append(s * 1.0 / i)\n",
    "            i += 100\n",
    "\n",
    "        return (comparisons_avg, swaps_avg, time_avg, comps_over_n, swaps_over_n)\n",
    "\n",
    "quick_c, quick_s, quick_t, quick_c_n, quick_s_n = algorithm_summary('ex-2-stats/quick-k-1.log')\n",
    "merge_c, merge_s, merge_t, merge_c_n, merge_s_n = algorithm_summary('ex-2-stats/merge-k-1.log')\n",
    "# insert_c, insert_s, insert_t, insert_c_n, insert_s_n = algorithm_summary('ex-2-stats/insert-k-1.log')\n",
    "\n",
    "x = list(range(1, 101))\n",
    "\n",
    "plt.bar(x, quick_c, align='center', color='red', width=2)\n",
    "plt.bar(x, merge_c, align='center', color='blue', width=2)\n",
    "plt.title('Bar graph')\n",
    "plt.ylabel('c')\n",
    "plt.xlabel('n $\\cdot$ 100')\n",
    "plt.show()\n"
   ]
  }
 ]
}